{
  "nbformat": 4,
  "nbformat_minor": 0,
  "metadata": {
    "colab": {
      "name": "Numpy_Implementation.ipynb",
      "provenance": [],
      "collapsed_sections": [],
      "mount_file_id": "1k6tL2SLlO1PYT286kn-7e9AkZBzuZqNQ",
      "authorship_tag": "ABX9TyNDdQALBIv2q3amg4aBpkEF",
      "include_colab_link": true
    },
    "kernelspec": {
      "name": "python3",
      "display_name": "Python 3"
    },
    "accelerator": "TPU"
  },
  "cells": [
    {
      "cell_type": "markdown",
      "metadata": {
        "id": "view-in-github",
        "colab_type": "text"
      },
      "source": [
        "<a href=\"https://colab.research.google.com/github/Atharva-K12/Memes-vs-Notes/blob/master/Numpy_Implementation.ipynb\" target=\"_parent\"><img src=\"https://colab.research.google.com/assets/colab-badge.svg\" alt=\"Open In Colab\"/></a>"
      ]
    },
    {
      "cell_type": "markdown",
      "metadata": {
        "id": "7eCake3PL5A9",
        "colab_type": "text"
      },
      "source": [
        "##Import libraries"
      ]
    },
    {
      "cell_type": "code",
      "metadata": {
        "id": "QaQpsyGCXsI_",
        "colab_type": "code",
        "colab": {}
      },
      "source": [
        "from PIL import Image\n",
        "import os\n",
        "import numpy as np\n",
        "import matplotlib.pyplot as plt\n",
        "import math"
      ],
      "execution_count": 1,
      "outputs": []
    },
    {
      "cell_type": "markdown",
      "metadata": {
        "id": "y_DuhuG5MDP6",
        "colab_type": "text"
      },
      "source": [
        "##Data loader"
      ]
    },
    {
      "cell_type": "code",
      "metadata": {
        "id": "AuyAxQjwFIDq",
        "colab_type": "code",
        "colab": {}
      },
      "source": [
        "def loaddata(x):\n",
        "    input_dir1=\"/content/drive/My Drive/Dataset_memes_vs_notes1/Memes\"\n",
        "    input_dir2=\"/content/drive/My Drive/Dataset_memes_vs_notes1/Notes\"\n",
        "    data0=[]\n",
        "    data1 = []\n",
        "    X_train=[]\n",
        "    X_dev=[]\n",
        "    X_test=[]\n",
        "    Y_test=[]\n",
        "    Y_train=[]\n",
        "    Y_dev=[]\n",
        "    c=1\n",
        "    for file in os.listdir(input_dir1):\n",
        "        img =Image.open(input_dir1 + '/' + file).convert('RGB')\n",
        "        img=np.array(img.resize((100,100)),dtype='float64')\n",
        "        data1.append([img,c])\n",
        "    c=0\n",
        "    for file in os.listdir(input_dir2):\n",
        "        img =Image.open(input_dir2 + '/' + file).convert('RGB')\n",
        "        img=np.array(img.resize((100,100)),dtype='float64')\n",
        "        data0.append([img,c])\n",
        "    np.random.seed(x)\n",
        "    train = data0[:700] + data1[:700]\n",
        "    dev = data0[700:750] + data1[700:750]\n",
        "    test = data0[750:] + data1[750:]\n",
        "    np.random.shuffle(train)\n",
        "    np.random.shuffle(dev)\n",
        "    np.random.shuffle(test)\n",
        "    for x,y in train:\n",
        "      X_train.append(x)\n",
        "      Y_train.append(y)\n",
        "    for x,y in dev:\n",
        "      X_dev.append(x)\n",
        "      Y_dev.append(y)\n",
        "    for x,y in test:\n",
        "      X_test.append(x)\n",
        "      Y_test.append(y)\n",
        "    print(\"Loaded!\")\n",
        "    return np.array(X_train),np.array(Y_train),np.array(X_dev),np.array(Y_dev),np.array(X_test),np.array(Y_test)"
      ],
      "execution_count": 2,
      "outputs": []
    },
    {
      "cell_type": "markdown",
      "metadata": {
        "id": "eDFgbznPMIHE",
        "colab_type": "text"
      },
      "source": [
        "##Activation Functions"
      ]
    },
    {
      "cell_type": "code",
      "metadata": {
        "id": "wGTVlRiugxB_",
        "colab_type": "code",
        "colab": {}
      },
      "source": [
        "def sigmoid(Z):\n",
        "  return 1/(1+np.exp(-Z)),Z\n",
        "def relu(Z):\n",
        "  return np.maximum(0,Z), Z\n",
        "def relu_back(dA, Z):\n",
        "  dZ = np.array(dA, copy=True)\n",
        "  dZ[Z<= 0]=0\n",
        "  return dZ\n",
        "def sigmoid_back(dA, Z):\n",
        "  s,t=sigmoid(Z)\n",
        "  dZ=np.multiply(dA,np.multiply(s,1-s))\n",
        "  return dZ"
      ],
      "execution_count": 3,
      "outputs": []
    },
    {
      "cell_type": "markdown",
      "metadata": {
        "id": "-0hSEMmNMMnU",
        "colab_type": "text"
      },
      "source": [
        "## Initialise Parameters"
      ]
    },
    {
      "cell_type": "code",
      "metadata": {
        "id": "26jPawapg2dc",
        "colab_type": "code",
        "colab": {}
      },
      "source": [
        "def parameters_init(dims):\n",
        "    parameters = {}\n",
        "    L = len(dims)\n",
        "    for l in range(1,L):\n",
        "        parameters['W' + str(l)] = np.random.randn(dims[l],dims[l-1])*np.sqrt(2/dims[l-1])\n",
        "        parameters['b' + str(l)] = np.zeros((dims[l], 1))\n",
        "    return parameters"
      ],
      "execution_count": 4,
      "outputs": []
    },
    {
      "cell_type": "code",
      "metadata": {
        "id": "eHx63oqahIfa",
        "colab_type": "code",
        "colab": {}
      },
      "source": [
        "def adam_init(parameters):\n",
        "  L=len(parameters)//2\n",
        "  v={}\n",
        "  s={}\n",
        "  for l in range(L):\n",
        "    v[\"dW\"+str(l+1)]=np.zeros(parameters[\"W\"+str(l+1)].shape)\n",
        "    v[\"db\"+str(l+1)]=np.zeros(parameters[\"b\"+str(l+1)].shape)\n",
        "    s[\"dW\"+str(l+1)]=np.zeros(parameters[\"W\"+str(l+1)].shape)\n",
        "    s[\"db\"+str(l+1)]=np.zeros(parameters[\"b\"+str(l+1)].shape)\n",
        "  return v, s"
      ],
      "execution_count": 5,
      "outputs": []
    },
    {
      "cell_type": "markdown",
      "metadata": {
        "id": "v6SA1_xUMWxW",
        "colab_type": "text"
      },
      "source": [
        "##Forward Propagation"
      ]
    },
    {
      "cell_type": "code",
      "metadata": {
        "id": "dI3Z92J1hNqQ",
        "colab_type": "code",
        "colab": {}
      },
      "source": [
        "def forward_prop_calc(W,A,b,activation):\n",
        "  c=0\n",
        "  Activ={\"relu\":relu,\"sigmoid\":sigmoid}\n",
        "  Z=np.dot(W,A)+b\n",
        "  cache1=(A,W,b)\n",
        "  A,cache2=Activ[activation](Z)\n",
        "  r=np.all((A==0),axis=1)\n",
        "  cache3=(cache1,cache2)\n",
        "  return A,cache3\n",
        "def forward_prop(X,parameters):\n",
        "    cache=[]\n",
        "    A=X\n",
        "    L=len(parameters)//2\n",
        "    for l in range(L-1):\n",
        "      A_prev=A\n",
        "      A,cache3=forward_prop_calc(parameters['W'+str(l+1)],A_prev,parameters['b'+str(l+1)],activation=\"relu\")\n",
        "      cache.append(cache3)\n",
        "    AL,cache3=forward_prop_calc(parameters['W'+str(L)],A,parameters['b'+str(L)],activation=\"sigmoid\")\n",
        "    cache.append(cache3)\n",
        "    return AL,cache"
      ],
      "execution_count": 6,
      "outputs": []
    },
    {
      "cell_type": "markdown",
      "metadata": {
        "id": "ls7Z0uPMMbt7",
        "colab_type": "text"
      },
      "source": [
        "##Cost "
      ]
    },
    {
      "cell_type": "code",
      "metadata": {
        "id": "sU5MXxNkhSCR",
        "colab_type": "code",
        "colab": {}
      },
      "source": [
        "def cost_calc(AL,Y,parameters,lambd=0.1):\n",
        "  l2=0\n",
        "  for i in range(1,len(parameters)//2):\n",
        "    l2+=np.sum(np.square(parameters['W'+str(i)]))\n",
        "  cost=(-1/Y.shape[1])*(np.sum(np.multiply(Y,np.log(AL))+np.multiply(1-Y,np.log(1-AL))))+l2*lambd/(2*Y.shape[1])\n",
        "  return cost"
      ],
      "execution_count": 7,
      "outputs": []
    },
    {
      "cell_type": "markdown",
      "metadata": {
        "id": "9X1rFZpcMfHo",
        "colab_type": "text"
      },
      "source": [
        "## Backward propagation"
      ]
    },
    {
      "cell_type": "code",
      "metadata": {
        "id": "dtA_fGXKhVpv",
        "colab_type": "code",
        "colab": {}
      },
      "source": [
        "def back_prop_calc(dA,cache3,activation,lambd=0.1):\n",
        "    cache1,cache2=cache3\n",
        "    Activ={\"relu\":relu_back,\"sigmoid\":sigmoid_back}\n",
        "    dZ=Activ[activation](dA,cache2)\n",
        "    A_prev,W,b=cache1\n",
        "    m=A_prev.shape[1]\n",
        "    dW=(1/m)*np.dot(dZ,A_prev.T)+lambd*W/m\n",
        "    db=(1/m)*np.sum(dZ,axis=1,keepdims=True)\n",
        "    dA_prev=np.dot(W.T,dZ)\n",
        "    return dA_prev,dW,db\n",
        "def back_prop(AL,Y,cache,lambd=0.1):\n",
        "    grads={}\n",
        "    L=len(cache)\n",
        "    m=AL.shape[1]\n",
        "    Y=Y.reshape(AL.shape)\n",
        "    dAL=-(np.divide(Y,AL)-np.divide(1-Y,1-AL))\n",
        "    cache3=cache[L-1]\n",
        "    grads[\"dA\"+str(L-1)],grads[\"dW\"+str(L)],grads[\"db\"+str(L)]=back_prop_calc(dAL,cache3,\"sigmoid\",lambd)\n",
        "    for l in reversed(range(L-1)):\n",
        "        cache3=cache[l]\n",
        "        grads[\"dA\"+str(l)],grads[\"dW\"+str(l+1)],grads[\"db\"+str(l+1)]=back_prop_calc(grads[\"dA\"+str(l+1)],cache3,\"relu\",lambd)\n",
        "    return grads"
      ],
      "execution_count": 8,
      "outputs": []
    },
    {
      "cell_type": "markdown",
      "metadata": {
        "id": "01mGwbdLMjYA",
        "colab_type": "text"
      },
      "source": [
        "##Parameters Update"
      ]
    },
    {
      "cell_type": "code",
      "metadata": {
        "id": "WAZoIgjN-R45",
        "colab_type": "code",
        "colab": {}
      },
      "source": [
        "def adam_update(parameters,grads,v,s,t,alpha=0.001,beta1=0.9,beta2=0.999,epsilon=1e-8):\n",
        "  L=len(parameters)//2\n",
        "  for l in range(L):\n",
        "    v[\"dW\"+str(l+1)]=(beta1*v[\"dW\"+str(l+1)]+(1-beta1)*grads[\"dW\"+str(l+1)])/(1-beta1**t)\n",
        "    v[\"db\"+str(l+1)]=(beta1*v[\"db\"+str(l+1)]+(1-beta1)*grads[\"db\"+str(l+1)])/(1-beta1**t)\n",
        "    s[\"dW\"+str(l+1)]=(beta2*s[\"dW\"+str(l+1)]+(1-beta2)*(grads[\"dW\"+str(l+1)]**2))/(1-beta2**t)\n",
        "    s[\"db\"+str(l+1)]=(beta2*s[\"db\"+str(l+1)]+(1-beta2)*(grads[\"db\"+str(l+1)]**2))/(1-beta2**t)\n",
        "    parameters[\"W\"+str(l+1)]=parameters[\"W\"+str(l+1)]-alpha*(v[\"dW\"+str(l+1)]/(np.sqrt(s[\"dW\"+str(l+1)])+epsilon))\n",
        "    parameters[\"b\"+str(l+1)]=parameters[\"b\"+str(l+1)]-alpha*(v[\"db\"+str(l+1)]/(np.sqrt(s[\"db\"+str(l+1)])+epsilon))\n",
        "  return parameters, v, s"
      ],
      "execution_count": 9,
      "outputs": []
    },
    {
      "cell_type": "markdown",
      "metadata": {
        "id": "m_Lwh9ShMnlb",
        "colab_type": "text"
      },
      "source": [
        "##mini batches"
      ]
    },
    {
      "cell_type": "code",
      "metadata": {
        "id": "zqrmIWyMTLKQ",
        "colab_type": "code",
        "colab": {}
      },
      "source": [
        "def mini_batches(X, Y, mini_batch_size = 64, seed = 0):\n",
        "    np.random.seed(seed)\n",
        "    m = X.shape[1]\n",
        "    mini_batches = []\n",
        "    permutation = list(np.random.permutation(m))\n",
        "    shuffled_X = X[:, permutation]\n",
        "    shuffled_Y = Y[:, permutation].reshape((1,m))\n",
        "    num_complete_minibatches = math.floor(m/mini_batch_size)\n",
        "    for k in range(0, num_complete_minibatches):\n",
        "        mini_batch_X = shuffled_X[:,k*mini_batch_size:(k+1)*mini_batch_size]\n",
        "        mini_batch_Y = shuffled_Y[:,k*mini_batch_size:(k+1)*mini_batch_size]\n",
        "        mini_batch = (mini_batch_X, mini_batch_Y)\n",
        "        mini_batches.append(mini_batch)\n",
        "    if m % mini_batch_size != 0:\n",
        "        mini_batch_X = shuffled_X[:,num_complete_minibatches*mini_batch_size:]\n",
        "        mini_batch_Y = shuffled_Y[:,num_complete_minibatches*mini_batch_size:]\n",
        "        mini_batch = (mini_batch_X, mini_batch_Y)\n",
        "        mini_batches.append(mini_batch)\n",
        "    return mini_batches"
      ],
      "execution_count": 10,
      "outputs": []
    },
    {
      "cell_type": "markdown",
      "metadata": {
        "id": "pYFh-dQ3MtOm",
        "colab_type": "text"
      },
      "source": [
        "#Model"
      ]
    },
    {
      "cell_type": "code",
      "metadata": {
        "id": "sjqhOsF5VGS-",
        "colab_type": "code",
        "colab": {}
      },
      "source": [
        "def model(X,Y,parameters,v,s,alpha=0.001,mini_batch_size=64,beta1=0.9,beta2=0.999,epsilon = 1e-8,lambd=0.1,num_epochs=10):\n",
        "    costs=[]\n",
        "    mini_costs=[]\n",
        "    t=0\n",
        "    seed=10\n",
        "    m=X.shape[1]\n",
        "    print(\"Model Initiated!\")\n",
        "    for i in range(1,num_epochs+1):\n",
        "        seed = seed + 1\n",
        "        minibatches=mini_batches(X, Y, mini_batch_size, seed)\n",
        "        total_cost=0\n",
        "        for minibatch in minibatches:\n",
        "            (minibatch_X,minibatch_Y)=minibatch\n",
        "            AL,cache=forward_prop(minibatch_X,parameters)\n",
        "            cost=cost_calc(AL,minibatch_Y,parameters,lambd)\n",
        "            mini_costs.append(cost)\n",
        "            total_cost+=cost\n",
        "            grads=back_prop(AL,minibatch_Y,cache,lambd)\n",
        "            t=t+1\n",
        "            parameters,v,s=adam_update(parameters,grads,v,s,t,alpha,beta1,beta2,epsilon)\n",
        "        cost_avg=total_cost/m\n",
        "        alpha/=np.sqrt(i)\n",
        "        print (\"Cost after epoch %i: %f\" %(i, cost_avg))\n",
        "        costs.append(cost_avg)\n",
        "    plt.plot(costs)\n",
        "    plt.ylabel('cost')\n",
        "    plt.xlabel('epochs')\n",
        "    plt.show()\n",
        "    plt.plot(mini_costs)\n",
        "    plt.ylabel('cost')\n",
        "    plt.xlabel('iterations')\n",
        "    plt.show()\n",
        "    return parameters,v,s"
      ],
      "execution_count": 21,
      "outputs": []
    },
    {
      "cell_type": "markdown",
      "metadata": {
        "id": "5E4unaNEMv0s",
        "colab_type": "text"
      },
      "source": [
        "##predict function"
      ]
    },
    {
      "cell_type": "code",
      "metadata": {
        "id": "Jckontw5VXnP",
        "colab_type": "code",
        "colab": {}
      },
      "source": [
        "def predict(X, y, parameters,s):\n",
        "  m = X.shape[1]\n",
        "  p = np.zeros((m))\n",
        "  AL, caches = forward_prop(X, parameters)\n",
        "  for i in range(AL.shape[1]):\n",
        "    if AL[0,i] > 0.5:\n",
        "      p[i] = 1\n",
        "    else:\n",
        "      p[i] = 0\n",
        "  Accuracy=np.mean((p[:]==y[:]))*100\n",
        "  print( s+ \" set Accuracy: \"  + str(Accuracy)+\"%\")\n",
        "  return Accuracy"
      ],
      "execution_count": 22,
      "outputs": []
    },
    {
      "cell_type": "markdown",
      "metadata": {
        "id": "mtH7yYfPM1JZ",
        "colab_type": "text"
      },
      "source": [
        "##Implementation"
      ]
    },
    {
      "cell_type": "code",
      "metadata": {
        "id": "bMxPaFMwVaH9",
        "colab_type": "code",
        "colab": {}
      },
      "source": [
        "def run():\n",
        "    X_train,Y_train,X_dev,Y_dev,X_test,Y_test=loaddata(5)\n",
        "    numpx=X_train.shape[1]\n",
        "    X_train=X_train.reshape(X_train.shape[0], -1).T\n",
        "    Y_train=Y_train.reshape(1,Y_train.shape[0])\n",
        "    X_train=X_train/255\n",
        "    X_test=X_test.reshape(X_test.shape[0], -1).T\n",
        "    Y_test=Y_test.reshape(1,Y_test.shape[0])\n",
        "    X_test=X_test/255\n",
        "    X_dev=X_dev.reshape(X_dev.shape[0], -1).T\n",
        "    Y_dev=Y_dev.reshape(1,Y_dev.shape[0])\n",
        "    X_dev=X_dev/255\n",
        "    dims=(numpx*numpx*3,730,250,95,33,1)\n",
        "    parameters=parameters_init(dims)\n",
        "    v,s=adam_init(parameters)\n",
        "    parameters,v,s=model(X_train,Y_train,parameters,v,s,alpha=0.0001,mini_batch_size=64,beta1=0.9,beta2=0.999,epsilon = 1e-8,lambd=0.1,num_epochs=3)\n",
        "    predictions_train=predict(X_train,Y_train,parameters,\"Train\")\n",
        "    parameters,v,s=model(X_dev,Y_dev,parameters,v,s,alpha=0.0001,mini_batch_size=64,beta1=0.9,beta2=0.999,epsilon = 1e-8,lambd=0.1,num_epochs=3)\n",
        "    predictions_dev=predict(X_dev,Y_dev,parameters,\"Dev\")\n",
        "    predictions_test=predict(X_test,Y_test,parameters,\"Test\")"
      ],
      "execution_count": 23,
      "outputs": []
    },
    {
      "cell_type": "code",
      "metadata": {
        "id": "-xv4Ev0UN1cw",
        "colab_type": "code",
        "colab": {
          "base_uri": "https://localhost:8080/",
          "height": 1000
        },
        "outputId": "ec5502db-3443-41c7-c7c0-67a6004eb82b"
      },
      "source": [
        "run()"
      ],
      "execution_count": 24,
      "outputs": [
        {
          "output_type": "stream",
          "text": [
            "Loaded!\n",
            "Model Initiated!\n",
            "Cost after epoch 1: 0.038330\n",
            "Cost after epoch 2: 0.036870\n",
            "Cost after epoch 3: 0.036868\n"
          ],
          "name": "stdout"
        },
        {
          "output_type": "display_data",
          "data": {
            "image/png": "[encoded data removed]",
            "text/plain": [
              "<Figure size 432x288 with 1 Axes>"
            ]
          },
          "metadata": {
            "tags": [],
            "needs_background": "light"
          }
        },
        {
          "output_type": "display_data",
          "data": {
            "image/png": "[encoded data removed]",
            "text/plain": [
              "<Figure size 432x288 with 1 Axes>"
            ]
          },
          "metadata": {
            "tags": [],
            "needs_background": "light"
          }
        },
        {
          "output_type": "stream",
          "text": [
            "Train set Accuracy: 86.57142857142858%\n",
            "Model Initiated!\n",
            "Cost after epoch 1: 0.060081\n",
            "Cost after epoch 2: 0.060189\n",
            "Cost after epoch 3: 0.060142\n"
          ],
          "name": "stdout"
        },
        {
          "output_type": "display_data",
          "data": {
            "image/png": "[encoded data removed]",
            "text/plain": [
              "<Figure size 432x288 with 1 Axes>"
            ]
          },
          "metadata": {
            "tags": [],
            "needs_background": "light"
          }
        },
        {
          "output_type": "display_data",
          "data": {
            "image/png": "[encoded data removed]",
            "text/plain": [
              "<Figure size 432x288 with 1 Axes>"
            ]
          },
          "metadata": {
            "tags": [],
            "needs_background": "light"
          }
        },
        {
          "output_type": "stream",
          "text": [
            "Dev set Accuracy: 86.0%\n",
            "Test set Accuracy: 86.0%\n"
          ],
          "name": "stdout"
        }
      ]
    },
    {
      "cell_type": "code",
      "metadata": {
        "id": "ywAnIDYOO-T-",
        "colab_type": "code",
        "colab": {}
      },
      "source": [
        ""
      ],
      "execution_count": null,
      "outputs": []
    }
  ]
}
