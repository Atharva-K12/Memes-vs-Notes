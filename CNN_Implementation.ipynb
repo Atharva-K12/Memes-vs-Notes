{
  "nbformat": 4,
  "nbformat_minor": 0,
  "metadata": {
    "colab": {
      "name": "CNN_Implementation.ipynb",
      "provenance": [],
      "mount_file_id": "1XaGMJ_dBvh59mfxNPB3TYZE5FblwcAsW",
      "authorship_tag": "ABX9TyO9dSc8WmB4vPNdCSkmhj9F",
      "include_colab_link": true
    },
    "kernelspec": {
      "name": "python3",
      "display_name": "Python 3"
    }
  },
  "cells": [
    {
      "cell_type": "markdown",
      "metadata": {
        "id": "view-in-github",
        "colab_type": "text"
      },
      "source": [
        "<a href=\"https://colab.research.google.com/github/Atharva-K12/Memes-vs-Notes/blob/master/CNN_Implementation.ipynb\" target=\"_parent\"><img src=\"https://colab.research.google.com/assets/colab-badge.svg\" alt=\"Open In Colab\"/></a>"
      ]
    },
    {
      "cell_type": "markdown",
      "metadata": {
        "id": "xhKE1SIHKcSV",
        "colab_type": "text"
      },
      "source": [
        "## Import Libraries"
      ]
    },
    {
      "cell_type": "code",
      "metadata": {
        "id": "WDARLmKLfc53",
        "colab_type": "code",
        "colab": {}
      },
      "source": [
        "import torch\n",
        "import torch.nn as nn\n",
        "import torch.nn.functional as F\n",
        "import os\n",
        "import numpy as np\n",
        "import matplotlib.pyplot as plt\n",
        "from PIL import Image"
      ],
      "execution_count": 1,
      "outputs": []
    },
    {
      "cell_type": "markdown",
      "metadata": {
        "id": "3f8EyI1zKhyx",
        "colab_type": "text"
      },
      "source": [
        "## Dataloader"
      ]
    },
    {
      "cell_type": "code",
      "metadata": {
        "id": "i9S6df_Dpzjx",
        "colab_type": "code",
        "colab": {
          "base_uri": "https://localhost:8080/",
          "height": 36
        },
        "outputId": "29fd3db1-9940-4580-d205-45fab5c982e0"
      },
      "source": [
        "input_dir1=\"/content/drive/My Drive/Dataset_memes_vs_notes/Memes\"\n",
        "input_dir2=\"/content/drive/My Drive/Dataset_memes_vs_notes/Notes\"\n",
        "data0=[]\n",
        "data1 = []\n",
        "X_train=[]\n",
        "X_test=[]\n",
        "Y_test=[]\n",
        "Y_train=[]\n",
        "X_dev=[]\n",
        "Y_dev=[]\n",
        "c=1\n",
        "for file in os.listdir(input_dir1):\n",
        "  img =np.array((Image.open(input_dir1 + '/' + file).convert('RGB')),dtype='float64')\n",
        "  data1.append([img,c])\n",
        "c=0\n",
        "for file in os.listdir(input_dir2):\n",
        "  img =np.array((Image.open(input_dir2 + '/' + file).convert('RGB')),dtype='float64')\n",
        "  data0.append([img,c])\n",
        "np.random.seed(0)\n",
        "train = data0[:700] + data1[:700]\n",
        "dev = data0[700:750] + data1[700:750]\n",
        "test = data0[750:] + data1[750:]\n",
        "np.random.shuffle(train)\n",
        "np.random.shuffle(test)\n",
        "np.random.shuffle(dev)\n",
        "for x,y in train:\n",
        "  X_train.append(x)\n",
        "  Y_train.append(y)\n",
        "for x,y in test:\n",
        "  X_test.append(x)\n",
        "  Y_test.append(y)\n",
        "for x,y in dev:\n",
        "  X_dev.append(x)\n",
        "  Y_dev.append(y)\n",
        "X_train=torch.Tensor(X_train)\n",
        "Y_train=torch.tensor(Y_train)\n",
        "X_dev=torch.Tensor(X_dev)\n",
        "Y_dev=torch.tensor(Y_dev)\n",
        "X_test=torch.Tensor(X_test)\n",
        "Y_test=torch.tensor(Y_test)\n",
        "print(\"Loaded!\")"
      ],
      "execution_count": 88,
      "outputs": [
        {
          "output_type": "stream",
          "text": [
            "Loaded!\n"
          ],
          "name": "stdout"
        }
      ]
    },
    {
      "cell_type": "markdown",
      "metadata": {
        "id": "dpEu9I96Kq5j",
        "colab_type": "text"
      },
      "source": [
        "## CNN Model Class"
      ]
    },
    {
      "cell_type": "code",
      "metadata": {
        "id": "FIV8S9z-pfuG",
        "colab_type": "code",
        "colab": {}
      },
      "source": [
        "class Model(nn.Module):\n",
        "  def __init__(self):\n",
        "    super().__init__()\n",
        "    self.conv1=nn.Sequential(\n",
        "      nn.Conv2d(3,50,9,stride=5),\n",
        "      nn.ReLU(),\n",
        "      nn.MaxPool2d(kernel_size=5,stride=1),\n",
        "    )\n",
        "    self.conv2=nn.Sequential(\n",
        "      nn.Conv2d(50,70,7,stride=4),\n",
        "      nn.ReLU(),\n",
        "      nn.MaxPool2d(kernel_size=3,stride=1),\n",
        "    )\n",
        "    self.conv3=nn.Sequential(\n",
        "      nn.Conv2d(70,90,3,stride=1),\n",
        "      nn.ReLU(),\n",
        "      nn.MaxPool2d(kernel_size=3,stride=1),\n",
        "    )\n",
        "    self.fc1=nn.Linear(4*4*90,90)\n",
        "    self.fc2=nn.Linear(90,2)\n",
        "  def forward(self,X):\n",
        "    X=self.conv1(X)\n",
        "    X=self.conv2(X)\n",
        "    X=self.conv3(X)\n",
        "    X=X.view(-1,4*4*90)\n",
        "    X=F.relu(self.fc1(X))\n",
        "    X=self.fc2(X)\n",
        "    return X"
      ],
      "execution_count": 89,
      "outputs": []
    },
    {
      "cell_type": "markdown",
      "metadata": {
        "id": "B6gqgk3dK0Z5",
        "colab_type": "text"
      },
      "source": [
        "Model Object created"
      ]
    },
    {
      "cell_type": "code",
      "metadata": {
        "id": "5sXVeN-VsGQa",
        "colab_type": "code",
        "colab": {}
      },
      "source": [
        "model=Model()\n",
        "cost_f=nn.CrossEntropyLoss()\n",
        "optimizer=torch.optim.Adam(model.parameters(),lr=0.0009)\n"
      ],
      "execution_count": 90,
      "outputs": []
    },
    {
      "cell_type": "markdown",
      "metadata": {
        "id": "422Q8-oQK5YH",
        "colab_type": "text"
      },
      "source": [
        "##Prediction function"
      ]
    },
    {
      "cell_type": "code",
      "metadata": {
        "id": "BolXb6emkrTU",
        "colab_type": "code",
        "colab": {}
      },
      "source": [
        "def predict(y_eval,y):\n",
        "  prediction=F.softmax(y_eval,dim=1)\n",
        "  prediction=torch.argmax(prediction,axis=1)\n",
        "  correct=0\n",
        "  for i in range(len(y)):\n",
        "    if y[i] == prediction[i]:\n",
        "      correct+= 1\n",
        "  return 100 * correct/y.shape[0]\n",
        "\n"
      ],
      "execution_count": 120,
      "outputs": []
    },
    {
      "cell_type": "markdown",
      "metadata": {
        "id": "UPFjGFiGK9do",
        "colab_type": "text"
      },
      "source": [
        "##Function to train data"
      ]
    },
    {
      "cell_type": "code",
      "metadata": {
        "id": "xg35B-jrtWZ_",
        "colab_type": "code",
        "colab": {}
      },
      "source": [
        "def trainer(X,Y,epoch):\n",
        "  costs=[]\n",
        "  mini_costs=[]\n",
        "  batch_size=100\n",
        "  for i in range(epoch):\n",
        "    total_cost=0\n",
        "    for j in range(int(X.size(0)/batch_size)):\n",
        "      optimizer.zero_grad()\n",
        "      X_mini=X[j*batch_size:(j+1)*batch_size]\n",
        "      Y_mini=Y[j*batch_size:(j+1)*batch_size].view(batch_size,1)\n",
        "      AL=model(X_mini.permute(0,3,1,2))\n",
        "      cost=cost_f(AL,torch.squeeze(Y_mini))\n",
        "      cost.backward()\n",
        "      optimizer.step()\n",
        "      mini_costs.append(cost)\n",
        "      total_cost+=cost\n",
        "    print(\"Cost = \"+str((total_cost/batch_size).item()))\n",
        "    costs.append(total_cost/batch_size)\n",
        "  plt.plot(costs)\n",
        "  plt.ylabel('cost')\n",
        "  plt.xlabel('epochs')\n",
        "  plt.show()\n",
        "  plt.plot(mini_costs)\n",
        "  plt.ylabel('cost')\n",
        "  plt.xlabel('iterations')\n",
        "  plt.show()\n",
        "  with torch.no_grad():\n",
        "    Y_eval=model.forward(X_train.permute(0,3,1,2))\n",
        "    prediction=predict(Y_eval,Y)\n",
        "    print(\"Accuracy on Train set is \"+str(prediction))"
      ],
      "execution_count": 137,
      "outputs": []
    },
    {
      "cell_type": "markdown",
      "metadata": {
        "id": "KLMrwijMLFcA",
        "colab_type": "text"
      },
      "source": [
        "training and predicting for train set"
      ]
    },
    {
      "cell_type": "code",
      "metadata": {
        "id": "aLGtyHn5iJcu",
        "colab_type": "code",
        "colab": {
          "base_uri": "https://localhost:8080/",
          "height": 634
        },
        "outputId": "c2d158df-3bc1-444e-a5a9-606fe45f5ba0"
      },
      "source": [
        "trainer(X_train,Y_train,4)"
      ],
      "execution_count": 138,
      "outputs": [
        {
          "output_type": "stream",
          "text": [
            "Cost = 0.0011514774523675442\n",
            "Cost = 0.0010142481187358499\n",
            "Cost = 0.0009273054311051965\n",
            "Cost = 0.0009399527916684747\n"
          ],
          "name": "stdout"
        },
        {
          "output_type": "display_data",
          "data": {
            "image/png": "[encoded data removed]",
            "text/plain": [
              "<Figure size 432x288 with 1 Axes>"
            ]
          },
          "metadata": {
            "tags": [],
            "needs_background": "light"
          }
        },
        {
          "output_type": "display_data",
          "data": {
            "image/png": "[encoded data removed]",
            "text/plain": [
              "<Figure size 432x288 with 1 Axes>"
            ]
          },
          "metadata": {
            "tags": [],
            "needs_background": "light"
          }
        },
        {
          "output_type": "stream",
          "text": [
            "Accuracy on Train set is 99.92857142857143\n"
          ],
          "name": "stdout"
        }
      ]
    },
    {
      "cell_type": "markdown",
      "metadata": {
        "id": "EIbb_jRhLSrv",
        "colab_type": "text"
      },
      "source": [
        "Training and predicting on validation set"
      ]
    },
    {
      "cell_type": "code",
      "metadata": {
        "id": "JLF6eNoRFVNF",
        "colab_type": "code",
        "colab": {
          "base_uri": "https://localhost:8080/",
          "height": 302
        },
        "outputId": "282c57bf-9462-4317-da0d-095f80936338"
      },
      "source": [
        "costs=[]\n",
        "for i in range(4):\n",
        "  optimizer.zero_grad()\n",
        "  AL=model.forward(X_dev.permute(0,3,1,2))\n",
        "  cost=cost_f(AL,torch.squeeze(Y_dev))\n",
        "  costs.append(cost)\n",
        "  cost.backward()\n",
        "  optimizer.step()\n",
        "plt.plot(costs)\n",
        "plt.ylabel('cost')\n",
        "plt.xlabel('epochs')\n",
        "plt.show()\n",
        "with torch.no_grad():\n",
        "  Y_eval=model.forward(X_dev.permute(0,3,1,2))\n",
        "  prediction=predict(Y_eval,Y_dev)\n",
        "  print(\"Accuracy on Dev set is \"+str(prediction))\n"
      ],
      "execution_count": 139,
      "outputs": [
        {
          "output_type": "display_data",
          "data": {
            "image/png": "[encoded data removed]",
            "text/plain": [
              "<Figure size 432x288 with 1 Axes>"
            ]
          },
          "metadata": {
            "tags": [],
            "needs_background": "light"
          }
        },
        {
          "output_type": "stream",
          "text": [
            "Accuracy on Dev set is 100.0\n"
          ],
          "name": "stdout"
        }
      ]
    },
    {
      "cell_type": "markdown",
      "metadata": {
        "id": "7jI-bX0sLZYy",
        "colab_type": "text"
      },
      "source": [
        "Predicting on test set"
      ]
    },
    {
      "cell_type": "code",
      "metadata": {
        "id": "OVuJHiSBDjgE",
        "colab_type": "code",
        "colab": {
          "base_uri": "https://localhost:8080/",
          "height": 36
        },
        "outputId": "ac8b796c-2390-459e-e671-bcf1bbdfb2d3"
      },
      "source": [
        "with torch.no_grad():\n",
        "    Y_eval=model.forward(X_test.permute(0,3,1,2))\n",
        "    prediction=predict(Y_eval,Y_test)\n",
        "    print(\"Accuracy on test is \"+str(prediction))"
      ],
      "execution_count": 140,
      "outputs": [
        {
          "output_type": "stream",
          "text": [
            "Accuracy on test is 100.0\n"
          ],
          "name": "stdout"
        }
      ]
    },
    {
      "cell_type": "code",
      "metadata": {
        "id": "K5ib8piEHd3B",
        "colab_type": "code",
        "colab": {}
      },
      "source": [
        ""
      ],
      "execution_count": null,
      "outputs": []
    }
  ]
}
